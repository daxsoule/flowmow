{
 "cells": [
  {
   "cell_type": "markdown",
   "metadata": {},
   "source": [
    "# Scratch\n",
    "This is where I keep scratch code snippets that may come in handy elsewhere."
   ]
  },
  {
   "cell_type": "markdown",
   "metadata": {},
   "source": [
    "## Convert Paros pressure to depth by fitting to the Sentry depth"
   ]
  },
  {
   "cell_type": "markdown",
   "metadata": {},
   "source": [
    "### Load data and slice nav by depth"
   ]
  },
  {
   "cell_type": "code",
   "execution_count": null,
   "metadata": {},
   "outputs": [],
   "source": [
    "# load converted data\n",
    "import pandas as pd\n",
    "nav = pd.read_hdf('../data/interim/nav_converted.h5', 'table')\n",
    "paros = pd.read_hdf('../data/interim/paros_converted.h5', 'table')"
   ]
  },
  {
   "cell_type": "code",
   "execution_count": null,
   "metadata": {},
   "outputs": [],
   "source": [
    "nav.head(1)"
   ]
  },
  {
   "cell_type": "code",
   "execution_count": null,
   "metadata": {},
   "outputs": [],
   "source": [
    "paros.head(1)"
   ]
  },
  {
   "cell_type": "code",
   "execution_count": null,
   "metadata": {},
   "outputs": [],
   "source": [
    "import numpy as np\n",
    "depth_min = int(np.floor(nav.depth.min()))\n",
    "depth_max = int(np.ceil(nav.depth.max()))\n",
    "hist, edges = np.histogram(nav.depth.values, bins=np.arange(depth_min, depth_max))"
   ]
  },
  {
   "cell_type": "code",
   "execution_count": null,
   "metadata": {},
   "outputs": [],
   "source": [
    "from bokeh.plotting import figure, show\n",
    "from bokeh.io import output_notebook\n",
    "output_notebook()\n",
    "\n",
    "p = figure(tools='pan,wheel_zoom,box_zoom,reset', x_range=(-1550, -1450), y_range=(0, 6e5),\n",
    "          title='Histogram of Sentry Depth')\n",
    "p.quad(top=hist, bottom=0, left=edges[:-1], right=edges[1:],\n",
    "        fill_color='blue', line_color=None)\n",
    "show(p)"
   ]
  },
  {
   "cell_type": "code",
   "execution_count": null,
   "metadata": {},
   "outputs": [],
   "source": [
    "nav_slice = nav.loc[(nav.depth >= -1550) & (nav.depth <= -1450)].copy() # here copy() is required to tell Pandas that we really do want a new copy of the dataframe, to avoid the SettingWithCopy warning\n",
    "nav_slice.head(1)"
   ]
  },
  {
   "cell_type": "markdown",
   "metadata": {},
   "source": [
    "### Interpolate Paros pressure onto nav_slice"
   ]
  },
  {
   "cell_type": "code",
   "execution_count": null,
   "metadata": {},
   "outputs": [],
   "source": [
    "nav_slice['pressure'] = np.interp(nav_slice.epoch.values, paros.epoch.values, paros.pressure.values)\n",
    "nav_slice.head(1)"
   ]
  },
  {
   "cell_type": "markdown",
   "metadata": {},
   "source": [
    "### Least squares regression using Numpy polyfit"
   ]
  },
  {
   "cell_type": "code",
   "execution_count": null,
   "metadata": {},
   "outputs": [],
   "source": [
    "params = np.polyfit(nav_slice.pressure.values, nav_slice.depth.values, 1)\n",
    "print('Fit Parameters: %0.10f %0.10f' % (params[0], params[1]))"
   ]
  },
  {
   "cell_type": "code",
   "execution_count": null,
   "metadata": {},
   "outputs": [],
   "source": [
    "nav_slice['paros_depth'] = nav_slice.pressure*params[0] + params[1]\n",
    "nav_slice.head(1)"
   ]
  },
  {
   "cell_type": "markdown",
   "metadata": {},
   "source": [
    "### Plot the Sentry depth and the Paros depth for a single dive"
   ]
  },
  {
   "cell_type": "code",
   "execution_count": null,
   "metadata": {},
   "outputs": [],
   "source": [
    "p = figure(tools='pan,wheel_zoom,box_zoom,reset', title='asdf')\n",
    "dive = 272\n",
    "nav_dive = nav_slice.loc[(nav_slice.dive_number == dive)].copy()\n",
    "p.line(nav_dive.epoch, nav_dive.paros_depth, line_color='blue')\n",
    "p.line(nav_dive.epoch, nav_dive.depth, line_color='green')\n",
    "show(p)"
   ]
  },
  {
   "cell_type": "markdown",
   "metadata": {},
   "source": [
    "## Misc"
   ]
  },
  {
   "cell_type": "code",
   "execution_count": null,
   "metadata": {},
   "outputs": [],
   "source": [
    "from bokeh.plotting import figure, show, output_file\n",
    "from bokeh.io import output_notebook\n",
    "output_notebook()\n",
    "\n",
    "\n",
    "p = figure(width=800, height=400, x_axis_type=\"datetime\")\n",
    "#p.line(ustrain_adv.iloc[::100].index.values, ustrain_adv.iloc[::100, 0])\n",
    "show(p)"
   ]
  },
  {
   "cell_type": "code",
   "execution_count": null,
   "metadata": {},
   "outputs": [],
   "source": [
    "%matplotlib notebook\n",
    "import numpy as np\n",
    "import pandas as pd\n",
    "import datetime as dt\n",
    "import matplotlib as mpl\n",
    "\n",
    "from bokeh.plotting import figure, show, output_file\n",
    "from bokeh.io import output_notebook\n",
    "output_notebook()"
   ]
  },
  {
   "cell_type": "code",
   "execution_count": null,
   "metadata": {},
   "outputs": [],
   "source": [
    "scc = store.scc.sort_values(by='T1')\n",
    "norm = mpl.colors.Normalize(vmin=2.45, vmax=2.6)\n",
    "cmap = mpl.cm.plasma\n",
    "m = mpl.cm.ScalarMappable(norm=norm, cmap=cmap)\n",
    "colors = ['#%02x%02x%02x' % (int(r),int(g),int(b)) for r,g,b,_ in 255*m.to_rgba(scc['T1'])]\n",
    "\n",
    "# create a new figure\n",
    "p = figure(tools='pan,wheel_zoom,box_zoom,reset', match_aspect=True, output_backend=\"webgl\", lod_threshold=100)\n",
    "\n",
    "# add a circle renderer with vecorized colors and sizes\n",
    "p.circle(scc['x'], scc['y'], radius=1, fill_color=colors, fill_alpha=0.6, line_color=None)\n",
    "\n",
    "# show the results\n",
    "show(p)"
   ]
  },
  {
   "cell_type": "code",
   "execution_count": null,
   "metadata": {},
   "outputs": [],
   "source": [
    "type((scc['T1']-scc['T1'].min())/scc['T1'].max())"
   ]
  },
  {
   "cell_type": "code",
   "execution_count": null,
   "metadata": {},
   "outputs": [],
   "source": [
    "list(colors)[0]"
   ]
  },
  {
   "cell_type": "code",
   "execution_count": null,
   "metadata": {},
   "outputs": [],
   "source": [
    "len(colors)"
   ]
  },
  {
   "cell_type": "code",
   "execution_count": null,
   "metadata": {},
   "outputs": [],
   "source": [
    "mpl.cm.viridis(3)"
   ]
  },
  {
   "cell_type": "code",
   "execution_count": null,
   "metadata": {},
   "outputs": [],
   "source": [
    "norm = mpl.colors.Normalize(vmin=2.4, vmax=2.65)\n",
    "cmap = mpl.cm.hot\n",
    "m = mpl.cm.ScalarMappable(norm=norm, cmap=cmap)\n",
    "colors = list(m.to_rgba(scc['T1']))"
   ]
  },
  {
   "cell_type": "markdown",
   "metadata": {},
   "source": [
    "#### Show rotated survey lines"
   ]
  },
  {
   "cell_type": "code",
   "execution_count": null,
   "metadata": {},
   "outputs": [],
   "source": [
    "# subsample the vehicle locations to make a smaller plot\n",
    "x = nav.iloc[::10].x\n",
    "y = nav.iloc[::10].y\n",
    "xrot = nav.iloc[::10].xrot\n",
    "yrot = nav.iloc[::10].yrot"
   ]
  },
  {
   "cell_type": "code",
   "execution_count": null,
   "metadata": {},
   "outputs": [],
   "source": [
    "from bokeh.plotting import figure, show, output_file\n",
    "from bokeh.io import output_notebook\n",
    "output_notebook()\n",
    "\n",
    "# create a new figure\n",
    "p = figure(tools='pan,wheel_zoom,box_zoom,reset', match_aspect=True, output_backend=\"webgl\", lod_threshold=100)\n",
    "\n",
    "# add a circle renderer with vecorized colors and sizes\n",
    "shiftx = -15\n",
    "shifty = -680\n",
    "\n",
    "p.circle(x-x.min()+shiftx, y-y.min()+shifty, radius=1, fill_color='blue', fill_alpha=0.6, line_color=None)\n",
    "p.circle(xrot-xrot.min()+shiftx, yrot-yrot.min()+shifty, radius=1, fill_color='green',\n",
    "         fill_alpha=0.6, line_color=None)\n",
    "\n",
    "# show the results\n",
    "show(p)"
   ]
  },
  {
   "cell_type": "markdown",
   "metadata": {},
   "source": [
    "#### Build a rotated coordinate system\n",
    "Here we create a rotated coordinate system which may make gridding easier. We also shift the arbitrary coordinate system (meters) so that the lower left corner of the study area is at approximately (0,0)."
   ]
  },
  {
   "cell_type": "code",
   "execution_count": null,
   "metadata": {},
   "outputs": [],
   "source": [
    "import numpy as np\n",
    "omega = 29 # rotate by omega degrees\n",
    "theta = np.deg2rad(omega)\n",
    "v = np.transpose(np.array([nav.x.values, nav.y.values]))\n",
    "R = np.array([[np.cos(theta),-np.sin(theta)], [np.sin(theta),np.cos(theta)]])\n",
    "vr = v.dot(R)\n",
    "nav['xrot'] = vr[:,0] - vr[:,0].min() - 615\n",
    "nav['yrot'] = vr[:,1] - vr[:,1].min() - 1503"
   ]
  },
  {
   "cell_type": "markdown",
   "metadata": {},
   "source": [
    "#### Interpolate nav onto all sensor data and save\n",
    "We delete variables and free memory as we go to avoid running out of memory."
   ]
  },
  {
   "cell_type": "code",
   "execution_count": null,
   "metadata": {},
   "outputs": [],
   "source": [
    "paros['x'] = np.interp(paros['epoch'].values, nav['epoch'].values, nav['x'].values)\n",
    "paros['y'] = np.interp(paros['epoch'].values, nav['epoch'].values, nav['y'].values)\n",
    "paros['xrot'] = np.interp(paros['epoch'].values, nav['epoch'].values, nav['xrot'].values)\n",
    "paros['yrot'] = np.interp(paros['epoch'].values, nav['epoch'].values, nav['yrot'].values)"
   ]
  },
  {
   "cell_type": "code",
   "execution_count": null,
   "metadata": {},
   "outputs": [],
   "source": [
    "sbe3['x'] = np.interp(sbe3['epoch'].values, nav['epoch'].values, nav['x'].values)\n",
    "sbe3['y'] = np.interp(sbe3['epoch'].values, nav['epoch'].values, nav['y'].values)\n",
    "sbe3['xrot'] = np.interp(sbe3['epoch'].values, nav['epoch'].values, nav['xrot'].values)\n",
    "sbe3['yrot'] = np.interp(sbe3['epoch'].values, nav['epoch'].values, nav['yrot'].values)"
   ]
  },
  {
   "cell_type": "code",
   "execution_count": null,
   "metadata": {},
   "outputs": [],
   "source": [
    "nortek = pd.read_hdf('../data/interim/nortek_raw.h5', 'table')\n",
    "nortek['x'] = np.interp(nortek['epoch'].values, nav['epoch'].values, nav['x'].values)\n",
    "nortek['y'] = np.interp(nortek['epoch'].values, nav['epoch'].values, nav['y'].values)\n",
    "nortek['xrot'] = np.interp(nortek['epoch'].values, nav['epoch'].values, nav['xrot'].values)\n",
    "nortek['yrot'] = np.interp(nortek['epoch'].values, nav['epoch'].values, nav['yrot'].values)"
   ]
  },
  {
   "cell_type": "code",
   "execution_count": null,
   "metadata": {},
   "outputs": [],
   "source": [
    "ustrain_adv = pd.read_hdf('../data/interim/ustrain_adv_raw.h5', 'table')\n",
    "ustrain_adv = ustrain_adv.rename(index=str, columns={'x': 'xx', 'y': 'yy', 'z': 'zz'})\n",
    "ustrain_adv['x'] = np.interp(ustrain_adv['epoch'].values, nav['epoch'].values, nav['x'].values)\n",
    "ustrain_adv['y'] = np.interp(ustrain_adv['epoch'].values, nav['epoch'].values, nav['y'].values)\n",
    "ustrain_adv['xrot'] = np.interp(ustrain_adv['epoch'].values, nav['epoch'].values, nav['xrot'].values)\n",
    "ustrain_adv['yrot'] = np.interp(ustrain_adv['epoch'].values, nav['epoch'].values, nav['yrot'].values)"
   ]
  },
  {
   "cell_type": "code",
   "execution_count": null,
   "metadata": {},
   "outputs": [],
   "source": [
    "ustrain_chassis = pd.read_hdf('../data/interim/ustrain_chassis_raw.h5', 'table')\n",
    "ustrain_chassis = ustrain_chassis.rename(index=str, columns={'x': 'xx', 'y': 'yy', 'z': 'zz'})\n",
    "ustrain_chassis['x'] = np.interp(ustrain_chassis['epoch'].values, nav['epoch'].values, nav['x'].values)\n",
    "ustrain_chassis['y'] = np.interp(ustrain_chassis['epoch'].values, nav['epoch'].values, nav['y'].values)\n",
    "ustrain_chassis['xrot'] = np.interp(ustrain_chassis['epoch'].values, nav['epoch'].values, nav['xrot'].values)\n",
    "ustrain_chassis['yrot'] = np.interp(ustrain_chassis['epoch'].values, nav['epoch'].values, nav['yrot'].values)"
   ]
  }
 ],
 "metadata": {
  "kernelspec": {
   "display_name": "Python 3",
   "language": "python",
   "name": "python3"
  },
  "language_info": {
   "codemirror_mode": {
    "name": "ipython",
    "version": 3
   },
   "file_extension": ".py",
   "mimetype": "text/x-python",
   "name": "python",
   "nbconvert_exporter": "python",
   "pygments_lexer": "ipython3",
   "version": "3.6.5"
  }
 },
 "nbformat": 4,
 "nbformat_minor": 2
}
