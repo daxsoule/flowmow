{
 "cells": [
  {
   "cell_type": "markdown",
   "metadata": {},
   "source": [
    "#### Setup"
   ]
  },
  {
   "cell_type": "code",
   "execution_count": null,
   "metadata": {},
   "outputs": [],
   "source": [
    "# general setup\n",
    "%matplotlib notebook\n",
    "import numpy as np\n",
    "import matplotlib.pyplot as plt\n",
    "import pandas as pd\n",
    "import datetime as dt\n",
    "\n",
    "# bokeh\n",
    "from bokeh.plotting import figure, show, output_file;\n",
    "from bokeh.io import output_notebook;\n",
    "output_notebook();"
   ]
  },
  {
   "cell_type": "markdown",
   "metadata": {},
   "source": [
    "#### Read Data"
   ]
  },
  {
   "cell_type": "code",
   "execution_count": null,
   "metadata": {},
   "outputs": [],
   "source": [
    "# data locations\n",
    "scc_filename = '/home/tjc/research/flowmow/sentry281/nav-sci/proc/sentry281_20140805_1757_scc.csv'\n",
    "sbe3_filename = '/home/tjc/research/flowmow/sentry281/nav-sci/raw/sbe3/sbe3.csv'\n",
    "nortek_vsd_filename = '/home/tjc/research/flowmow/sentry281/nav-sci/raw/nortek/nortek_vsd.csv'\n",
    "nortek_vvd_filename = '/home/tjc/research/flowmow/sentry281/nav-sci/raw/nortek/nortek_vvd.csv'\n",
    "paros_filename = '/home/tjc/research/flowmow/sentry281/nav-sci/raw/parosKinsey/paros.csv'\n",
    "ustrain_adv_filename = '/home/tjc/research/flowmow/sentry281/nav-sci/raw/ustrainAdv/ustrain_adv.csv'\n",
    "ustrain_chassis_filename = '/home/tjc/research/flowmow/sentry281/nav-sci/raw/ustrain-chassis/ustrain_chassis.csv'"
   ]
  },
  {
   "cell_type": "code",
   "execution_count": null,
   "metadata": {},
   "outputs": [],
   "source": [
    "# timestamp parser\n",
    "parse = lambda x: pd.datetime.strptime(x, '%Y/%m/%d %H:%M:%S.%f')"
   ]
  },
  {
   "cell_type": "code",
   "execution_count": null,
   "metadata": {},
   "outputs": [],
   "source": [
    "# read scc (sentry data)\n",
    "scc = pd.read_csv(scc_filename, parse_dates=['timestamp'], date_parser=parse)\n",
    "scc_epoch = []\n",
    "for index, row in scc.iterrows():\n",
    "    scc_epoch.append(int(row['timestamp'].to_pydatetime().replace(tzinfo=dt.timezone.utc).timestamp()))\n",
    "scc['epoch'] = scc_epoch"
   ]
  },
  {
   "cell_type": "code",
   "execution_count": null,
   "metadata": {},
   "outputs": [],
   "source": [
    "# read sbe3 (stinger temperature)\n",
    "sbe3 = pd.read_csv(sbe3_filename, parse_dates=['timestamp'], date_parser=parse)\n",
    "sbe3_epoch = []\n",
    "for index, row in sbe3.iterrows():\n",
    "    sbe3_epoch.append(row['timestamp'].to_pydatetime().replace(tzinfo=dt.timezone.utc).timestamp())\n",
    "sbe3['epoch'] = sbe3_epoch"
   ]
  },
  {
   "cell_type": "code",
   "execution_count": null,
   "metadata": {},
   "outputs": [],
   "source": [
    "# read nortek\n",
    "nortek_vvd = pd.read_csv(nortek_vvd_filename, parse_dates=['timestamp'], date_parser=parse)\n",
    "nortek_vvd_epoch = []\n",
    "for index, row in nortek_vvd.iterrows():\n",
    "    nortek_vvd_epoch.append(row['timestamp'].to_pydatetime().replace(tzinfo=dt.timezone.utc).timestamp())\n",
    "nortek_vvd['epoch'] = nortek_vvd_epoch"
   ]
  },
  {
   "cell_type": "markdown",
   "metadata": {},
   "source": [
    "#### Interpolate Positions"
   ]
  },
  {
   "cell_type": "code",
   "execution_count": null,
   "metadata": {},
   "outputs": [],
   "source": [
    "# interpolate for position on sbe3\n",
    "sbe3['x'] = np.interp(sbe3['epoch'].values, scc['epoch'].values, scc['x'].values)\n",
    "sbe3['y'] = np.interp(sbe3['epoch'].values, scc['epoch'].values, scc['y'].values)"
   ]
  },
  {
   "cell_type": "code",
   "execution_count": null,
   "metadata": {},
   "outputs": [],
   "source": [
    "# interpolate for position on nortek\n",
    "nortek_vvd['x'] = np.interp(nortek_vvd['epoch'].values, scc['epoch'].values, scc['x'].values)\n",
    "nortek_vvd['y'] = np.interp(nortek_vvd['epoch'].values, scc['epoch'].values, scc['y'].values)"
   ]
  },
  {
   "cell_type": "code",
   "execution_count": null,
   "metadata": {},
   "outputs": [],
   "source": [
    "p = figure(width=500, height=300)\n",
    "p.line(scc['x'], scc['y'])\n",
    "show(p)"
   ]
  },
  {
   "cell_type": "code",
   "execution_count": null,
   "metadata": {},
   "outputs": [],
   "source": [
    "p = figure(width=500, height=300)\n",
    "p.line(sbe3['x'], sbe3['y'])\n",
    "show(p)"
   ]
  },
  {
   "cell_type": "code",
   "execution_count": null,
   "metadata": {},
   "outputs": [],
   "source": [
    "p = figure(width=500, height=300)\n",
    "p.line(nortek_vvd['x'], nortek_vvd['y'])\n",
    "show(p)"
   ]
  },
  {
   "cell_type": "code",
   "execution_count": null,
   "metadata": {},
   "outputs": [],
   "source": []
  },
  {
   "cell_type": "code",
   "execution_count": null,
   "metadata": {},
   "outputs": [],
   "source": [
    "ustrain_adv = pd.read_csv(ustrain_adv_filename, index_col = 'timestamp', parse_dates=['timestamp'], date_parser=parse)"
   ]
  },
  {
   "cell_type": "code",
   "execution_count": null,
   "metadata": {},
   "outputs": [],
   "source": [
    "paros = pd.read_csv(paros_filename, index_col = 'timestamp', parse_dates=['timestamp'], date_parser=parse)"
   ]
  },
  {
   "cell_type": "code",
   "execution_count": null,
   "metadata": {},
   "outputs": [],
   "source": [
    "paros.iloc[::100, 1].plot()"
   ]
  },
  {
   "cell_type": "code",
   "execution_count": null,
   "metadata": {},
   "outputs": [],
   "source": [
    "ustrain_adv.iloc[::100, 1].plot();"
   ]
  },
  {
   "cell_type": "code",
   "execution_count": null,
   "metadata": {},
   "outputs": [],
   "source": [
    "from bokeh.plotting import figure, show, output_file\n",
    "from bokeh.io import output_notebook\n",
    "output_notebook()\n",
    "\n",
    "\n",
    "p = figure(width=800, height=400, x_axis_type=\"datetime\")\n",
    "#p.line(ustrain_adv.iloc[::100].index.values, ustrain_adv.iloc[::100, 0])\n",
    "show(p)"
   ]
  },
  {
   "cell_type": "code",
   "execution_count": null,
   "metadata": {},
   "outputs": [],
   "source": [
    "p = figure(width=800, height=400, x_axis_type=\"datetime\")\n",
    "p.line(paros.iloc[::100].index.values, paros.iloc[::100, 0])\n",
    "show(p)"
   ]
  },
  {
   "cell_type": "code",
   "execution_count": null,
   "metadata": {},
   "outputs": [],
   "source": [
    "nortek_vvd = pd.read_csv(nortek_vvd_filename, index_col = 'timestamp', parse_dates=['timestamp'], date_parser=parse)\n",
    "nortek_vvd.head()"
   ]
  },
  {
   "cell_type": "code",
   "execution_count": null,
   "metadata": {},
   "outputs": [],
   "source": [
    "sbe3 = pd.read_csv(sbe3_filename, index_col = 'timestamp', parse_dates=['timestamp'], date_parser=parse)\n",
    "sbe3.head()"
   ]
  },
  {
   "cell_type": "code",
   "execution_count": null,
   "metadata": {},
   "outputs": [],
   "source": [
    "sbe3.describe()"
   ]
  },
  {
   "cell_type": "code",
   "execution_count": null,
   "metadata": {},
   "outputs": [],
   "source": [
    "scc = pd.read_csv(scc_filename, parse_dates=['timestamp'], date_parser=parse)\n",
    "scc.head()"
   ]
  },
  {
   "cell_type": "code",
   "execution_count": null,
   "metadata": {},
   "outputs": [],
   "source": [
    "posix_timestamp = []\n",
    "for index, row in scc.iterrows():\n",
    "    posix_timestamp.append(int(row['timestamp'].to_pydatetime().replace(tzinfo=datetime.timezone.utc).timestamp()))"
   ]
  },
  {
   "cell_type": "code",
   "execution_count": null,
   "metadata": {},
   "outputs": [],
   "source": [
    "scc['posix'] = posix_timestamp"
   ]
  },
  {
   "cell_type": "code",
   "execution_count": null,
   "metadata": {},
   "outputs": [],
   "source": [
    "scc['posix'].tail()"
   ]
  },
  {
   "cell_type": "code",
   "execution_count": null,
   "metadata": {},
   "outputs": [],
   "source": [
    "import datetime\n",
    "test.replace(tzinfo=datetime.timezone.utc).timestamp()"
   ]
  },
  {
   "cell_type": "code",
   "execution_count": null,
   "metadata": {},
   "outputs": [],
   "source": [
    "import numpy as np\n",
    "#from bokeh.palettes import Spectral11\n",
    "from bokeh.plotting import figure, show, output_file\n",
    "from bokeh.io import output_notebook\n",
    "output_notebook()"
   ]
  },
  {
   "cell_type": "code",
   "execution_count": null,
   "metadata": {},
   "outputs": [],
   "source": [
    "p = figure(width=500, height=300)\n",
    "p.line(scc['x'], scc['y'])\n",
    "show(p)"
   ]
  },
  {
   "cell_type": "code",
   "execution_count": null,
   "metadata": {},
   "outputs": [],
   "source": []
  },
  {
   "cell_type": "code",
   "execution_count": null,
   "metadata": {},
   "outputs": [],
   "source": [
    "%matplotlib notebook\n",
    "import numpy as np\n",
    "import pandas as pd\n",
    "import datetime as dt\n",
    "import matplotlib as mpl\n",
    "\n",
    "from bokeh.plotting import figure, show, output_file\n",
    "from bokeh.io import output_notebook\n",
    "output_notebook()"
   ]
  },
  {
   "cell_type": "code",
   "execution_count": null,
   "metadata": {},
   "outputs": [],
   "source": [
    "store = pd.HDFStore('flowmow.h5')\n",
    "store"
   ]
  },
  {
   "cell_type": "code",
   "execution_count": null,
   "metadata": {},
   "outputs": [],
   "source": [
    "#scc = store.scc"
   ]
  },
  {
   "cell_type": "code",
   "execution_count": null,
   "metadata": {},
   "outputs": [],
   "source": [
    "#scc.head()"
   ]
  },
  {
   "cell_type": "code",
   "execution_count": null,
   "metadata": {},
   "outputs": [],
   "source": [
    "scc = store.scc.sort_values(by='T1')\n",
    "norm = mpl.colors.Normalize(vmin=2.45, vmax=2.6)\n",
    "cmap = mpl.cm.plasma\n",
    "m = mpl.cm.ScalarMappable(norm=norm, cmap=cmap)\n",
    "colors = ['#%02x%02x%02x' % (int(r),int(g),int(b)) for r,g,b,_ in 255*m.to_rgba(scc['T1'])]\n",
    "\n",
    "# create a new figure\n",
    "p = figure(tools='pan,wheel_zoom,box_zoom,reset', match_aspect=True, output_backend=\"webgl\", lod_threshold=100)\n",
    "\n",
    "# add a circle renderer with vecorized colors and sizes\n",
    "p.circle(scc['x'], scc['y'], radius=1, fill_color=colors, fill_alpha=0.6, line_color=None)\n",
    "\n",
    "# show the results\n",
    "show(p)"
   ]
  },
  {
   "cell_type": "code",
   "execution_count": null,
   "metadata": {},
   "outputs": [],
   "source": [
    "type((scc['T1']-scc['T1'].min())/scc['T1'].max())"
   ]
  },
  {
   "cell_type": "code",
   "execution_count": null,
   "metadata": {},
   "outputs": [],
   "source": [
    "list(colors)[0]"
   ]
  },
  {
   "cell_type": "code",
   "execution_count": null,
   "metadata": {},
   "outputs": [],
   "source": [
    "len(colors)"
   ]
  },
  {
   "cell_type": "code",
   "execution_count": null,
   "metadata": {},
   "outputs": [],
   "source": [
    "mpl.cm.viridis(3)"
   ]
  },
  {
   "cell_type": "code",
   "execution_count": null,
   "metadata": {},
   "outputs": [],
   "source": [
    "r"
   ]
  },
  {
   "cell_type": "code",
   "execution_count": null,
   "metadata": {},
   "outputs": [],
   "source": [
    "norm = mpl.colors.Normalize(vmin=2.4, vmax=2.65)\n",
    "cmap = mpl.cm.hot\n",
    "m = mpl.cm.ScalarMappable(norm=norm, cmap=cmap)\n",
    "colors = list(m.to_rgba(scc['T1']))"
   ]
  },
  {
   "cell_type": "code",
   "execution_count": null,
   "metadata": {},
   "outputs": [],
   "source": [
    "list(test[1,0:3])"
   ]
  },
  {
   "cell_type": "code",
   "execution_count": null,
   "metadata": {},
   "outputs": [],
   "source": []
  }
 ],
 "metadata": {
  "kernelspec": {
   "display_name": "Python 3",
   "language": "python",
   "name": "python3"
  },
  "language_info": {
   "codemirror_mode": {
    "name": "ipython",
    "version": 3
   },
   "file_extension": ".py",
   "mimetype": "text/x-python",
   "name": "python",
   "nbconvert_exporter": "python",
   "pygments_lexer": "ipython3",
   "version": "3.6.5"
  }
 },
 "nbformat": 4,
 "nbformat_minor": 2
}
