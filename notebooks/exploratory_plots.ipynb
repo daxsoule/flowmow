{
 "cells": [
  {
   "cell_type": "markdown",
   "metadata": {},
   "source": [
    "# exploratory_plots"
   ]
  },
  {
   "cell_type": "markdown",
   "metadata": {},
   "source": [
    "#### Nav"
   ]
  },
  {
   "cell_type": "code",
   "execution_count": null,
   "metadata": {},
   "outputs": [],
   "source": [
    "import pandas as pd\n",
    "nav = pd.read_hdf('../data/interim/nav.h5', 'table')"
   ]
  },
  {
   "cell_type": "markdown",
   "metadata": {},
   "source": [
    "First we subsample the nav points so that the bokeh plots don't take up as much memory."
   ]
  },
  {
   "cell_type": "code",
   "execution_count": null,
   "metadata": {},
   "outputs": [],
   "source": [
    "x = nav.iloc[::10].x\n",
    "y = nav.iloc[::10].y\n",
    "xrot = nav.iloc[::10].xrot\n",
    "yrot = nav.iloc[::10].yrot"
   ]
  },
  {
   "cell_type": "markdown",
   "metadata": {},
   "source": [
    "Next we plot the nav and the rotated nav, both of which are shown in meters but both of which have been shifted. The unrotated nav is shifted into an arbitrary horizontal datum, and the rotated nav is shifted so that the lower left corner of the survey area is at (0,0)."
   ]
  },
  {
   "cell_type": "code",
   "execution_count": null,
   "metadata": {},
   "outputs": [],
   "source": [
    "from bokeh.plotting import figure, show\n",
    "from bokeh.io import output_notebook\n",
    "output_notebook()\n",
    "\n",
    "# create a new figure\n",
    "p = figure(tools='pan,wheel_zoom,box_zoom,reset', match_aspect=True,\n",
    "           output_backend=\"webgl\", lod_threshold=100, aspect_scale=1,\n",
    "           title='Nav and the Rotated Nav (Meters with Arbitrary Horizontal Datum)')\n",
    "\n",
    "# circles for nav points\n",
    "p.circle(x-x.min()-1150, y-y.min()-1503, radius=1, fill_color='blue', fill_alpha=0.8, line_color=None)\n",
    "p.circle(xrot, yrot, radius=1, fill_color='green', fill_alpha=0.8, line_color=None)\n",
    "\n",
    "# area to be used for data selection\n",
    "p.line([0, 200, 200, 0, 0], [0, 0, 220, 220, 0], line_width=2, color='black')\n",
    "\n",
    "# show the results\n",
    "show(p)"
   ]
  },
  {
   "cell_type": "markdown",
   "metadata": {},
   "source": [
    "#### Area selection function\n",
    "This is a function that can be used to select data based on position in the rotated and shifted coordinate system."
   ]
  },
  {
   "cell_type": "code",
   "execution_count": null,
   "metadata": {},
   "outputs": [],
   "source": [
    "ymax = 220\n",
    "ymin = 0\n",
    "xmax = 200\n",
    "xmin = 0\n",
    "\n",
    "def area_select(df):\n",
    "    return df.loc[(df.xrot >= xmin) & (df.xrot <= xmax) & (df.yrot >= ymin) & (df.yrot <= ymax)]"
   ]
  },
  {
   "cell_type": "code",
   "execution_count": null,
   "metadata": {},
   "outputs": [],
   "source": [
    "from bokeh.plotting import figure, show\n",
    "from bokeh.io import output_notebook\n",
    "output_notebook()\n",
    "\n",
    "p = figure(tools='pan,wheel_zoom,box_zoom,reset', match_aspect=True,\n",
    "           output_backend=\"webgl\", lod_threshold=100, aspect_scale=1,\n",
    "           title='Selected Nav')\n",
    "\n",
    "# circles for nav points\n",
    "p.circle(area_select(nav).xrot.values[::10], area_select(nav).yrot.values[::10],\n",
    "         radius=1, fill_color='blue', fill_alpha=0.8, line_color=None)\n",
    "\n",
    "show(p)"
   ]
  },
  {
   "cell_type": "markdown",
   "metadata": {},
   "source": [
    "#### Paros"
   ]
  },
  {
   "cell_type": "code",
   "execution_count": null,
   "metadata": {},
   "outputs": [],
   "source": [
    "paros = pd.read_hdf('../data/interim/paros.h5', 'table')\n",
    "paros.head()"
   ]
  },
  {
   "cell_type": "code",
   "execution_count": null,
   "metadata": {},
   "outputs": [],
   "source": [
    "import numpy as np\n",
    "paros_min = int(np.floor(paros.pressure.min()))\n",
    "paros_max = int(np.ceil(paros.pressure.max()))\n",
    "hist, edges = np.histogram(paros.pressure.values, bins=np.arange(paros_min, paros_max))"
   ]
  },
  {
   "cell_type": "code",
   "execution_count": null,
   "metadata": {},
   "outputs": [],
   "source": [
    "p = figure(tools='pan,wheel_zoom,box_zoom,reset', x_range=(2100, 2300), y_range=(0, 4e5),\n",
    "          title='Histogram of Paros Pressures')\n",
    "p.quad(top=hist, bottom=0, left=edges[:-1], right=edges[1:],\n",
    "        fill_color='blue', line_color=None)\n",
    "show(p)"
   ]
  }
 ],
 "metadata": {
  "kernelspec": {
   "display_name": "Python 3",
   "language": "python",
   "name": "python3"
  },
  "language_info": {
   "codemirror_mode": {
    "name": "ipython",
    "version": 3
   },
   "file_extension": ".py",
   "mimetype": "text/x-python",
   "name": "python",
   "nbconvert_exporter": "python",
   "pygments_lexer": "ipython3",
   "version": "3.6.5"
  }
 },
 "nbformat": 4,
 "nbformat_minor": 2
}
