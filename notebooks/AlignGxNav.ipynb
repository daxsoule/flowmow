{
 "cells": [
  {
   "cell_type": "markdown",
   "metadata": {},
   "source": [
    "# Alignment Code for Gx3 to Nav"
   ]
  },
  {
   "cell_type": "code",
   "execution_count": null,
   "metadata": {},
   "outputs": [],
   "source": [
    "import numpy as np\n",
    "from bokeh.plotting import figure, show\n",
    "from bokeh.io import output_notebook\n",
    "output_notebook()"
   ]
  },
  {
   "cell_type": "code",
   "execution_count": null,
   "metadata": {},
   "outputs": [],
   "source": [
    "def e2q(E):\n",
    "    q = np.array([0.0,0.0,0.0,0.0])\n",
    "    hroll = E[0]/2.0\n",
    "    hpitch = E[1]/2.0\n",
    "    hyaw = E[2]/2.0\n",
    "    sin_r2 = np.sin(hroll)\n",
    "    sin_p2 = np.sin(hpitch)\n",
    "    sin_y2 = np.sin(hyaw)\n",
    "    cos_r2 = np.cos(hroll)\n",
    "    cos_p2 = np.cos(hpitch)\n",
    "    cos_y2 = np.cos(hyaw)\n",
    "    q[0] = cos_r2 * cos_p2 * cos_y2 + sin_r2 * sin_p2 * sin_y2\n",
    "    q[1] = sin_r2 * cos_p2 * cos_y2 - cos_r2 * sin_p2 * sin_y2\n",
    "    q[2] = cos_r2 * sin_p2 * cos_y2 + sin_r2 * cos_p2 * sin_y2\n",
    "    q[3] = cos_r2 * cos_p2 * sin_y2 - sin_r2 * sin_p2 * cos_y2\n",
    "    q = q/np.linalg.norm(q)\n",
    "    if q[0]<0:\n",
    "        q = -q\n",
    "    return q\n",
    "\n",
    "#test\n",
    "E = np.array([0.0,0.0,0.0])\n",
    "if np.linalg.norm(np.array([1.0,0,0,0])-e2q(E)) > 1e-10:\n",
    "    raise ValueError(\"e2q not working\")"
   ]
  },
  {
   "cell_type": "code",
   "execution_count": null,
   "metadata": {},
   "outputs": [],
   "source": [
    "def q2R(q):\n",
    "    # q = [scalar vector]\n",
    "    w = q[0]\n",
    "    x = q[1]\n",
    "    y = q[2]\n",
    "    z = q[3]\n",
    "\n",
    "    nrm = np.linalg.norm(q)\n",
    "    if (abs(nrm) < 0.9):\n",
    "        disp('QuaternionLib::q2C -- not a unit quaternion');\n",
    "        R = np.eye(3)\n",
    "        return R\n",
    "    nrm = 1./nrm\n",
    "    w = w*nrm\n",
    "    x = x*nrm\n",
    "    y = y*nrm\n",
    "    z = z*nrm\n",
    "    x2 = x*x\n",
    "    y2 = y*y\n",
    "    z2 = z*z\n",
    "    w2 = w*w\n",
    "    xy = 2*x*y\n",
    "    xz = 2*x*z\n",
    "    yz = 2*y*z\n",
    "    wx = 2*w*x\n",
    "    wy = 2*w*y\n",
    "    wz = 2*w*z\n",
    "    R = np.zeros((3,3))\n",
    "    R[0,0] = w2+x2-y2-z2 \n",
    "    R[0,1] = xy-wz\n",
    "    R[0,2] = xz+wy\n",
    "    R[1,0] = xy+wz\n",
    "    R[1,1] = w2-x2+y2-z2\n",
    "    R[1,2] = yz-wx\n",
    "    R[2,0] = xz-wy\n",
    "    R[2,1] = yz+wx\n",
    "    R[2,2] = w2-x2-y2+z2\n",
    "    return R"
   ]
  },
  {
   "cell_type": "code",
   "execution_count": null,
   "metadata": {},
   "outputs": [],
   "source": [
    "E = np.array([0.0,0.0,0.0])\n",
    "q2R(e2q(E))"
   ]
  },
  {
   "cell_type": "code",
   "execution_count": null,
   "metadata": {},
   "outputs": [],
   "source": [
    "# return quaternion equivalent to rotation matrix R\n",
    "# q is wxyz\n",
    "# from MIT libbot\n",
    "def q2e(q):\n",
    "    E = np.zeros(3)\n",
    "    roll_a = 2 * (q[0]*q[1] + q[2]*q[3]);\n",
    "    roll_b = 1 - 2*(q[1]*q[1] + q[2]*q[2]);\n",
    "    E[0] = np.arctan2(roll_a, roll_b);\n",
    "    pitch_sin = 2*(q[0]*q[2] - q[3]*q[1]);\n",
    "    E[1] = np.arcsin(pitch_sin);\n",
    "    yaw_a = 2*(q[0]*q[3] + q[1]*q[2]);\n",
    "    yaw_b = 1 - 2*(q[2]*q[2] + q[3]*q[3]);\n",
    "    E[2] = np.arctan2(yaw_a, yaw_b);\n",
    "    return E\n",
    "\n",
    "q2e(e2q(E))"
   ]
  },
  {
   "cell_type": "code",
   "execution_count": null,
   "metadata": {},
   "outputs": [],
   "source": []
  }
 ],
 "metadata": {
  "kernelspec": {
   "display_name": "Python 3",
   "language": "python",
   "name": "python3"
  },
  "language_info": {
   "codemirror_mode": {
    "name": "ipython",
    "version": 3
   },
   "file_extension": ".py",
   "mimetype": "text/x-python",
   "name": "python",
   "nbconvert_exporter": "python",
   "pygments_lexer": "ipython3",
   "version": "3.6.5"
  }
 },
 "nbformat": 4,
 "nbformat_minor": 2
}
