{
 "cells": [
  {
   "cell_type": "markdown",
   "metadata": {},
   "source": [
    "# proc_raw\n",
    "\n",
    "This notebook applies various basic processing and conversions to the raw FlowMow2 data."
   ]
  },
  {
   "cell_type": "markdown",
   "metadata": {},
   "source": [
    "#### Setup"
   ]
  },
  {
   "cell_type": "code",
   "execution_count": null,
   "metadata": {},
   "outputs": [],
   "source": [
    "%matplotlib notebook\n",
    "import numpy as np\n",
    "import pandas as pd\n",
    "import datetime as dt\n",
    "import matplotlib as mpl\n",
    "import matplotlib.pyplot as plt\n",
    "import subprocess\n",
    "import os"
   ]
  },
  {
   "cell_type": "markdown",
   "metadata": {},
   "source": [
    "#### Open raw data store"
   ]
  },
  {
   "cell_type": "code",
   "execution_count": null,
   "metadata": {},
   "outputs": [],
   "source": [
    "store = pd.HDFStore('flowmow.h5')"
   ]
  },
  {
   "cell_type": "markdown",
   "metadata": {},
   "source": [
    "#### Get UTM northing and easting values"
   ]
  },
  {
   "cell_type": "code",
   "execution_count": null,
   "metadata": {},
   "outputs": [],
   "source": [
    "# use GMT to get UTM zone 9T northing and easting values\n",
    "scc = store.scc\n",
    "tmpfile = dt.datetime.now().strftime(\"utmx_utmy_%Y%m%d%H%M%S%f\")\n",
    "scc.to_csv(tmpfile, sep=',', columns = ['lon', 'lat'], header=False, index=False)\n",
    "cmd = 'cat %s | gmt mapproject -Ju9/1 -R-132/-126/40/48 -F' % tmpfile\n",
    "gmt_output = (subprocess.check_output(cmd, shell=True).decode('utf-8')).split('\\n')\n",
    "os.remove(tmpfile)\n",
    "os.remove('gmt.history')\n",
    "\n",
    "# loop through GMT output and add to dataframe\n",
    "x = []\n",
    "y = []\n",
    "for i in gmt_output:\n",
    "    try:\n",
    "        x.append(np.float64(i.split('\\t')[0]))\n",
    "        y.append(np.float64(i.split('\\t')[1]))\n",
    "    except:\n",
    "        pass\n",
    "\n",
    "# add to scc and store\n",
    "scc['x'] = x\n",
    "scc['y'] = y\n",
    "store['scc'] = scc"
   ]
  },
  {
   "cell_type": "markdown",
   "metadata": {},
   "source": [
    "#### Build a rotated coordinate system"
   ]
  },
  {
   "cell_type": "code",
   "execution_count": null,
   "metadata": {},
   "outputs": [],
   "source": [
    "# rotate by omega degrees\n",
    "omega = 29\n",
    "theta = np.deg2rad(omega)\n",
    "v = np.transpose(np.asarray([x, y]))\n",
    "R = np.array([[np.cos(theta),-np.sin(theta)], [np.sin(theta),np.cos(theta)]])\n",
    "vr = v.dot(R)\n",
    "\n",
    "# add to scc and store\n",
    "scc['xrot'] = vr[:,0]\n",
    "scc['yrot'] = vr[:,1]\n",
    "store['scc'] = scc"
   ]
  },
  {
   "cell_type": "markdown",
   "metadata": {},
   "source": [
    "#### Show rotated survey lines"
   ]
  },
  {
   "cell_type": "code",
   "execution_count": null,
   "metadata": {},
   "outputs": [],
   "source": [
    "from bokeh.plotting import figure, show, output_file\n",
    "from bokeh.io import output_notebook\n",
    "output_notebook()\n",
    "\n",
    "# create a new figure\n",
    "p = figure(tools='pan,wheel_zoom,box_zoom,reset', match_aspect=True, output_backend=\"webgl\", lod_threshold=100)\n",
    "\n",
    "# add a circle renderer with vecorized colors and sizes\n",
    "shiftx = -15\n",
    "shifty = -680\n",
    "p.circle(x-min(x)+shiftx, y-min(y)+shifty, radius=1, fill_color='blue', fill_alpha=0.6, line_color=None)\n",
    "p.circle(scc.xrot-scc.xrot.min()+shiftx, scc.yrot-scc.yrot.min()+shifty, radius=1, fill_color='green',\n",
    "         fill_alpha=0.6, line_color=None)\n",
    "\n",
    "# show the results\n",
    "show(p)"
   ]
  },
  {
   "cell_type": "markdown",
   "metadata": {},
   "source": [
    "#### Convert SBE3 values to temperature"
   ]
  },
  {
   "cell_type": "code",
   "execution_count": null,
   "metadata": {},
   "outputs": [],
   "source": [
    "# load SBE3\n",
    "sbe3 = store['sbe3']\n",
    "\n",
    "# ITS-90 equation\n",
    "def its90(f,g,h,i,j,f0):\n",
    "    return 1/(g + h*(np.log(f0/f)) + i*((np.log(f0/f))**2) + j*((np.log(f0/f))**3)) - 273.15\n",
    "\n",
    "# calibration constants\n",
    "g_2446 = 4.37247477e-3\n",
    "h_2446 = 6.48296136e-4\n",
    "i_2446 = 2.37876805e-5\n",
    "j_2446 = 2.19965081e-6\n",
    "f0_2446 = 1000.0\n",
    "g_2265 = 4.33185264e-3\n",
    "h_2265 = 6.43918821e-4\n",
    "i_2265 = 2.36253120e-5\n",
    "j_2265 = 2.24297344e-6\n",
    "f0_2265 = 1000.0\n",
    "Fxtal = 4.91548\n",
    "\n",
    "# frequencies\n",
    "sbe3['freq_0'] = 512*Fxtal/(sbe3.counts_0/1e6)\n",
    "sbe3['freq_1'] = 512*Fxtal/(sbe3.counts_1/1e6)\n",
    "\n",
    "# temperatures\n",
    "# we know that 2265 was on the stinger and i have high confidence that 2265 is counts_0\n",
    "# and 2446 is counts_1 because the cals are not interchangeable\n",
    "sbe3['temp_stinger'] = its90(sbe3['freq_0'],g_2265,h_2265,i_2265,j_2265,f0_2265)\n",
    "sbe3['temp_top'] = its90(sbe3['freq_1'],g_2446,h_2446,i_2446,j_2446,f0_2446)"
   ]
  },
  {
   "cell_type": "code",
   "execution_count": null,
   "metadata": {},
   "outputs": [],
   "source": []
  },
  {
   "cell_type": "code",
   "execution_count": null,
   "metadata": {},
   "outputs": [],
   "source": [
    "p = figure(tools='pan,wheel_zoom,box_zoom,reset', match_aspect=True, output_backend=\"webgl\",\n",
    "           lod_threshold=100, y_range=(2.4,3.4))\n",
    "p.circle(sbe3.timestamp, sbe3.temp_stinger, radius=1, color='blue')\n",
    "p.circle(sbe3.timestamp, sbe3.temp_top, radius=1, color='green')\n",
    "# show the results\n",
    "show(p)"
   ]
  },
  {
   "cell_type": "code",
   "execution_count": null,
   "metadata": {},
   "outputs": [],
   "source": []
  },
  {
   "cell_type": "code",
   "execution_count": null,
   "metadata": {},
   "outputs": [],
   "source": []
  },
  {
   "cell_type": "markdown",
   "metadata": {},
   "source": [
    "#### Convert Paros values to temperature and pressure"
   ]
  },
  {
   "cell_type": "code",
   "execution_count": null,
   "metadata": {},
   "outputs": [],
   "source": [
    "# calibration constants from raw output (check that these don't change on other dives)\n",
    "C1 = -28183.59\n",
    "C2 = 204.9442\n",
    "C3 = 87027.50\n",
    "D1 = 0.0351403\n",
    "D2 = 0.0\n",
    "T1 = 30.06669\n",
    "T2 = 1.427388\n",
    "T3 = 63.14868\n",
    "T4 = 205.6885\n",
    "T5 = 0.0\n",
    "U0 = 5.834068\n",
    "Y1 = -3858.945\n",
    "Y2 = -11153.40\n",
    "Y3 = 0.0\n",
    "\n",
    "# load data\n",
    "paros = store.paros\n",
    "\n",
    "# \n",
    "U = paros.eta - U0\n",
    "C = C1 + C2*U + C3*U**2\n",
    "D = D1 + D2*U\n",
    "T0 = T1 + T2*U + T3*U**2 + T4*U**3 + T5*U**4\n",
    "\n",
    "paros['temp'] = Y1*U + Y2*U**2 + Y3*U**3\n",
    "paros['pressure'] = C*(1-T0**2/paros.tau**2)*(1-D*(1-T0**2/paros.tau**2))\n",
    "\n",
    "\n",
    "\n",
    "#paros['temp'] = "
   ]
  },
  {
   "cell_type": "code",
   "execution_count": null,
   "metadata": {},
   "outputs": [],
   "source": [
    "(paros.pressure*0.7030696).plot(linewidth=0.5)"
   ]
  },
  {
   "cell_type": "code",
   "execution_count": null,
   "metadata": {},
   "outputs": [],
   "source": [
    "paros.info()"
   ]
  },
  {
   "cell_type": "code",
   "execution_count": null,
   "metadata": {},
   "outputs": [],
   "source": []
  }
 ],
 "metadata": {
  "language_info": {
   "name": "python",
   "pygments_lexer": "ipython3"
  }
 },
 "nbformat": 4,
 "nbformat_minor": 2
}
