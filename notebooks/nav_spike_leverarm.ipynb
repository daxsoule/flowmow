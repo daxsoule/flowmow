{
 "cells": [
  {
   "cell_type": "markdown",
   "metadata": {},
   "source": [
    "# Perform lever-arm correction to all sensors from Sentry Nav\n",
    "\n",
    "Sentry measured rotations relate directly to local spike translations.\n",
    "- Pitching motion (about Sentry y-axis) relates to vertical motions in the spike.\n",
    "- Bottom following autonomous mode will result in many pitching adjustments\n",
    " - Likely a major vertical component measured in ADV "
   ]
  },
  {
   "cell_type": "code",
   "execution_count": null,
   "metadata": {},
   "outputs": [],
   "source": [
    "# Libraries for plotting\n",
    "import matplotlib\n",
    "import matplotlib.pyplot as plt\n",
    "import numpy as np"
   ]
  },
  {
   "cell_type": "code",
   "execution_count": null,
   "metadata": {},
   "outputs": [],
   "source": [
    "# load processed Nav data\n",
    "import pandas as pd\n",
    "nav = pd.read_hdf('../data/interim/nav_converted.h5', 'table')\n",
    "paros = pd.read_hdf('../data/interim/paros_converted.h5', 'table')\n",
    "sbe3 = pd.read_hdf('../data/interim/sbe3_converted.h5', 'table')"
   ]
  },
  {
   "cell_type": "code",
   "execution_count": null,
   "metadata": {},
   "outputs": [],
   "source": [
    "# get start time\n",
    "T0 = nav.head(1).epoch[0]\n",
    "\n",
    "# see what is in the data\n",
    "nav.head(2)"
   ]
  },
  {
   "cell_type": "markdown",
   "metadata": {},
   "source": [
    "## Lever-arm uses the relative position from reference to test point"
   ]
  },
  {
   "cell_type": "code",
   "execution_count": null,
   "metadata": {},
   "outputs": [],
   "source": [
    "# Sentry to spike GX3-25,  this is the guesstimate, will look up more accurate number \n",
    "bTRgxs = np.array([1.8, 0.2, 0.7])\n",
    "# Sentry to body GX3-25,  also a guesstimate\n",
    "bTRgxb = np.array([0.0, 0.0, 0.0])\n",
    "# Sentry to ADV,  also a guesstimate\n",
    "bTRadv = np.array([1.6, 0.2, 0.9])\n",
    "# Sentry to SBE3,  also a guesstimate\n",
    "bTRsbe = np.array([1.5, 0.2, 0.8])\n",
    "# Sentry to Paros,  also a guesstimate\n",
    "bTRpar = np.array([1.4, 0.2, 0.8])"
   ]
  },
  {
   "cell_type": "markdown",
   "metadata": {},
   "source": [
    "## Extract time and pitch\n",
    "\n",
    "Convert pitch from degrees to radians"
   ]
  },
  {
   "cell_type": "code",
   "execution_count": null,
   "metadata": {},
   "outputs": [],
   "source": [
    "# Data for plotting\n",
    "t = nav.epoch - T0\n",
    "pitch = nav.pitch * np.pi/180.0\n",
    "nav[\"pitch_rad\"] = nav.pitch * np.pi/180.0"
   ]
  },
  {
   "cell_type": "markdown",
   "metadata": {},
   "source": [
    "### Double checking epoch time?\n",
    "\n",
    "There is a jump in timestamp?"
   ]
  },
  {
   "cell_type": "code",
   "execution_count": null,
   "metadata": {},
   "outputs": [],
   "source": [
    "fig, ax = plt.subplots()\n",
    "ax.plot(range(len(t)),t)\n",
    "\n",
    "ax.set(xlabel='samples', ylabel='epoch time',\n",
    "       title='Data from two dives?')\n",
    "ax.grid()\n",
    "fig.savefig('../results/nav/epoch-time.png')"
   ]
  },
  {
   "cell_type": "markdown",
   "metadata": {},
   "source": [
    "## Working with a shorter subset of data"
   ]
  },
  {
   "cell_type": "code",
   "execution_count": null,
   "metadata": {},
   "outputs": [],
   "source": [
    "strt = 0\n",
    "ephs = 65000"
   ]
  },
  {
   "cell_type": "code",
   "execution_count": null,
   "metadata": {},
   "outputs": [],
   "source": [
    "fig, ax = plt.subplots()\n",
    "ax.plot(t[strt:ephs], pitch[strt:ephs])\n",
    "\n",
    "ax.set(xlabel='time [s]', ylabel='pitch [rad]',\n",
    "       title='Pitch angle')\n",
    "ax.grid()\n",
    "fig.savefig('../results/nav/pitch_vs_time.png')"
   ]
  },
  {
   "cell_type": "markdown",
   "metadata": {},
   "source": [
    "# Calculate lever-arm perturbations to Spike mounted sensors"
   ]
  },
  {
   "cell_type": "code",
   "execution_count": null,
   "metadata": {},
   "outputs": [],
   "source": [
    "fig, ax = plt.subplots()\n",
    "ax.plot(t[strt:ephs], nav.head(ephs).depth)\n",
    "\n",
    "ax.set(xlabel='time [s]', ylabel='depth [m]',\n",
    "       title='Depth over time')\n",
    "ax.grid()\n",
    "fig.savefig('../results/nav/depth_vs_time.png')"
   ]
  },
  {
   "cell_type": "markdown",
   "metadata": {},
   "source": [
    "## Seems to be some erroneous data between 65000 and 70000"
   ]
  },
  {
   "cell_type": "code",
   "execution_count": null,
   "metadata": {},
   "outputs": [],
   "source": [
    "fig, ax = plt.subplots()\n",
    "ax.plot(t[65000:70000], nav.head(70000).tail(5000).depth)\n",
    "\n",
    "ax.set(xlabel='time [s]', ylabel='depth [m]',\n",
    "       title='Depth Measurement Error')\n",
    "ax.grid()\n",
    "fig.savefig('../results/nav/depth_data_err.png')"
   ]
  },
  {
   "cell_type": "markdown",
   "metadata": {},
   "source": [
    "## Zoom in closer on the first dive"
   ]
  },
  {
   "cell_type": "code",
   "execution_count": null,
   "metadata": {},
   "outputs": [],
   "source": [
    "strt = 14000\n",
    "ephs = 50500"
   ]
  },
  {
   "cell_type": "code",
   "execution_count": null,
   "metadata": {},
   "outputs": [],
   "source": [
    "fig, ax = plt.subplots()\n",
    "ax.plot(t[strt:ephs], nav.head(ephs).tail(ephs-strt).depth)\n",
    "\n",
    "ax.set(xlabel='time [s]', ylabel='depth [m]',\n",
    "       title='Depth over time')\n",
    "ax.grid()\n",
    "fig.savefig('../results/nav/depth_vs_time_bottom1_all.png')"
   ]
  },
  {
   "cell_type": "code",
   "execution_count": null,
   "metadata": {},
   "outputs": [],
   "source": [
    "strt = 14780\n",
    "ephs = 25330"
   ]
  },
  {
   "cell_type": "code",
   "execution_count": null,
   "metadata": {},
   "outputs": [],
   "source": [
    "fig, ax = plt.subplots()\n",
    "ax.plot(t[strt:ephs], nav.head(ephs).tail(ephs-strt).depth)\n",
    "\n",
    "ax.set(xlabel='time [s]', ylabel='depth [m]',\n",
    "       title='Depth Zoomed, Bottom1, -1480m')\n",
    "ax.grid()\n",
    "fig.savefig('../results/nav/depth_vs_time_bottom1_1480.png')"
   ]
  },
  {
   "cell_type": "code",
   "execution_count": null,
   "metadata": {},
   "outputs": [],
   "source": [
    "fig, ax = plt.subplots()\n",
    "ax.plot(t[strt:ephs], pitch[strt:ephs])\n",
    "\n",
    "ax.set(xlabel='time [s]', ylabel='pitch [rad]',\n",
    "       title='Pitch angle, Bottom1, -1480m')\n",
    "ax.grid()\n",
    "fig.savefig('../results/nav/pitch_vs_time_bottom1_1480.png')"
   ]
  },
  {
   "cell_type": "markdown",
   "metadata": {},
   "source": [
    "### What are the Local Vertical Perturbations due to Pitching"
   ]
  },
  {
   "cell_type": "code",
   "execution_count": null,
   "metadata": {},
   "outputs": [],
   "source": [
    "def getpitchrate(pitch_rad):\n",
    "    # focus on just pitch for the moment\n",
    "    local_pitch = np.array(pitch_rad)\n",
    "    ref_pitch = np.mean(local_pitch)\n",
    "    delta_pitch = local_pitch - ref_pitch\n",
    "    # calculate the delta time\n",
    "    local_time = np.array(t)\n",
    "    delta_time = np.diff(local_time)\n",
    "    # pitch rate\n",
    "    local_pitch_rate = delta_pitch / np.mean(delta_time)\n",
    "    return local_pitch_rate"
   ]
  },
  {
   "cell_type": "code",
   "execution_count": null,
   "metadata": {},
   "outputs": [],
   "source": [
    "local_pitch_rate = getpitchrate(pitch[strt:ephs])"
   ]
  },
  {
   "cell_type": "code",
   "execution_count": null,
   "metadata": {},
   "outputs": [],
   "source": [
    "fig, ax = plt.subplots()\n",
    "ax.plot(local_pitch_rate)\n",
    "\n",
    "ax.set(xlabel='time [s]', ylabel='pitch rate [rad/s]',\n",
    "       title='Pitch rate, Bottom1, -1480m')\n",
    "ax.grid()\n",
    "fig.savefig('../results/nav/pitchrate_vs_time_bottom1_1480.png')"
   ]
  },
  {
   "cell_type": "code",
   "execution_count": null,
   "metadata": {},
   "outputs": [],
   "source": [
    "# calculate the lever-arm component of vertical velocity\n",
    "\n",
    "# result\n",
    "res = np.matrix((10550,3))\n",
    "vert = np.zeros((10550,))\n",
    "\n",
    "vert.shape"
   ]
  },
  {
   "cell_type": "code",
   "execution_count": null,
   "metadata": {},
   "outputs": [],
   "source": [
    "for i in range(10550):\n",
    "  local_rate = np.array([0.0, local_pitch_rate[i], 0.0])\n",
    "  val = np.cross(local_rate, bTRadv)\n",
    "  vert[i] = val[2]"
   ]
  },
  {
   "cell_type": "code",
   "execution_count": null,
   "metadata": {},
   "outputs": [],
   "source": [
    "fig, ax = plt.subplots()\n",
    "ax.plot(vert)\n",
    "\n",
    "ax.set(xlabel='time [s]', ylabel='Vertical Vel [ms/s]',\n",
    "       title='Vertical Velocity, Bottom1, -1480m')\n",
    "ax.grid()\n",
    "fig.savefig('../results/nav/vert_vs_time_bottom1_1480.png')"
   ]
  },
  {
   "cell_type": "markdown",
   "metadata": {},
   "source": [
    "# Use Panda's Data Selection Methodology\n",
    "\n",
    "### Study comparison between Nav lever-arm and Paros"
   ]
  },
  {
   "cell_type": "code",
   "execution_count": null,
   "metadata": {},
   "outputs": [],
   "source": [
    "#def area_select(df):\n",
    "#    return df.loc[(df.xrot >= xmin) & (df.xrot <= xmax) & (df.yrot >= ymin) & (df.yrot <= ymax)]\n",
    "\n",
    "def sel_by_depth(nav, depthmin=-5000, depthmax=-1000):\n",
    "  return nav[(nav.depth < depthmax) & (nav.depth > depthmin)]\n",
    "\n",
    "def sel_by_epoch(nav, T0, Tmin=-5000, Tmax=-1000):\n",
    "  return nav[(nav.epoch < (Tmax+T0)) & (nav.epoch > (Tmin+T0))]"
   ]
  },
  {
   "cell_type": "code",
   "execution_count": null,
   "metadata": {},
   "outputs": [],
   "source": [
    "sel_depth = sel_by_depth(nav, depthmin=-1482, depthmax=-1475)\n",
    "\n",
    "fig, ax = plt.subplots()\n",
    "ax.plot(sel_depth.depth.values)\n",
    "\n",
    "ax.set(xlabel='samples', ylabel='depth [m]',\n",
    "       title='Depth Zoomed, Bottom1, -1480m')\n",
    "ax.grid()\n",
    "fig.savefig('../results/nav/sel_depth_1480.png')"
   ]
  },
  {
   "cell_type": "code",
   "execution_count": null,
   "metadata": {},
   "outputs": [],
   "source": [
    "sel_depth = sel_by_depth(nav, depthmin=-3000, depthmax=-1400)\n",
    "\n",
    "fig, ax = plt.subplots()\n",
    "ax.plot(sel_depth.depth.values)\n",
    "\n",
    "ax.set(xlabel='samples', ylabel='depth [m]',\n",
    "       title='Depth Zoomed, Bottom1, -1480m')\n",
    "ax.grid()\n",
    "fig.savefig('../results/nav/sel_depth_dives.png')"
   ]
  },
  {
   "cell_type": "code",
   "execution_count": null,
   "metadata": {},
   "outputs": [],
   "source": [
    "paros.head(2)"
   ]
  },
  {
   "cell_type": "code",
   "execution_count": null,
   "metadata": {},
   "outputs": [],
   "source": [
    "sel_depth = sel_by_depth(nav, depthmin=-1482, depthmax=-1475)\n",
    "sel_depth_t = sel_by_epoch(sel_depth, T0, Tmin=2900, Tmax=6000)\n",
    "\n",
    "fig, ax = plt.subplots()\n",
    "ax.plot(sel_depth_t.epoch.values - T0, sel_depth_t.depth.values)\n",
    "\n",
    "ax.set(xlabel='epoch [s]', ylabel='depth [m]',\n",
    "       title='Depth Zoomed, Bottom1, -1480m')\n",
    "ax.grid()\n",
    "fig.savefig('../results/nav/sel_depth_time_01.png')"
   ]
  },
  {
   "cell_type": "code",
   "execution_count": null,
   "metadata": {},
   "outputs": [],
   "source": [
    "sel_paros_t = sel_by_epoch(paros, T0, Tmin=2950, Tmax=5080)\n",
    "\n",
    "fig, ax = plt.subplots()\n",
    "ax.plot(sel_paros_t.epoch.values - T0, sel_paros_t.pressure.values)\n",
    "\n",
    "ax.set(xlabel='time [s]', ylabel='depth [pressure]',\n",
    "       title='Depth Zoomed, Bottom1, -1480m')\n",
    "ax.grid()\n",
    "fig.savefig('../results/nav/sel_paros_first.png')"
   ]
  },
  {
   "cell_type": "code",
   "execution_count": null,
   "metadata": {},
   "outputs": [],
   "source": [
    "def first_order_comp(x, m, c):\n",
    "    return x*m + c"
   ]
  },
  {
   "cell_type": "code",
   "execution_count": null,
   "metadata": {},
   "outputs": [],
   "source": [
    "sel_paros_t = sel_by_epoch(paros, T0, Tmin=2950, Tmax=5080)\n",
    "sel_depth_t = sel_by_epoch(sel_depth, T0, Tmin=2950, Tmax=5080)\n",
    "\n",
    "fig, ax = plt.subplots()\n",
    "ax.plot(sel_paros_t.epoch.values - T0, first_order_comp(sel_paros_t.pressure.values,-1,707))\n",
    "ax.plot(sel_depth_t.epoch.values - T0, sel_depth_t.depth.values)\n",
    "\n",
    "ax.set(xlabel='time [s]', ylabel='depth ',\n",
    "       title='Depth Zoomed, Bottom1, -1480m')\n",
    "ax.grid()\n",
    "fig.savefig('../results/nav/sel_paros_prefit.png')"
   ]
  },
  {
   "cell_type": "code",
   "execution_count": null,
   "metadata": {},
   "outputs": [],
   "source": [
    "sel_sbe3_t = sel_by_epoch(sbe3, T0, Tmin=2950, Tmax=5080)\n",
    "\n",
    "fig, ax1 = plt.subplots()\n",
    "hd1, = ax1.plot(sel_paros_t.epoch.values - T0, first_order_comp(sel_paros_t.pressure.values,-1,707), label='nav')\n",
    "hd2, = ax1.plot(sel_depth_t.epoch.values - T0, sel_depth_t.depth.values,'r', label='paros')\n",
    "\n",
    "ax1.set(xlabel='time [s]', ylabel='depth [m]',\n",
    "       title='Zoomed depth & temperature, bottom01, -1480m')\n",
    "ax1.grid()\n",
    "\n",
    "ax2 = ax1.twinx()\n",
    "hd3, = ax2.plot(sel_sbe3_t.epoch.values - T0, sel_sbe3_t.temp_stinger.values, 'm', label='sbe3')\n",
    "ax2.set_ylabel('temp_stinger', color='m')\n",
    "ax2.tick_params('y', colors='m')\n",
    "\n",
    "fig.tight_layout()\n",
    "# plt.show()\n",
    "plt.legend(handles=[hd1, hd2, hd3])\n",
    "\n",
    "fig.savefig('../results/nav/bottom01_depth_temp.png')"
   ]
  },
  {
   "cell_type": "code",
   "execution_count": null,
   "metadata": {},
   "outputs": [],
   "source": [
    "sbe3.head(2)"
   ]
  },
  {
   "cell_type": "markdown",
   "metadata": {},
   "source": [
    "## Fit Paros to Nav\n",
    "\n",
    "Extract a slice of Nav and Paros data, then interpolate paros to nav followed by a first order fit."
   ]
  },
  {
   "cell_type": "code",
   "execution_count": null,
   "metadata": {},
   "outputs": [],
   "source": [
    "nav_slice = sel_by_depth(nav, depthmin=-1550, depthmax=-1450).copy()\n",
    "nav_slice['pressure'] = np.interp(nav_slice.epoch.values, paros.epoch.values, paros.pressure.values)\n",
    "params = np.polyfit(nav_slice.pressure.values, nav_slice.depth.values, 1)\n",
    "print('Fit Parameters: %0.10f %0.10f' % (params[0], params[1]))"
   ]
  },
  {
   "cell_type": "code",
   "execution_count": null,
   "metadata": {},
   "outputs": [],
   "source": [
    "# add paros predicted depth\n",
    "nav_slice['paros_depth'] = nav_slice.pressure*params[0] + params[1]\n",
    "nav_slice.head(1)"
   ]
  },
  {
   "cell_type": "code",
   "execution_count": null,
   "metadata": {},
   "outputs": [],
   "source": [
    "nav_slice_plot = sel_by_epoch(nav_slice, T0, Tmin=2960, Tmax=5070)\n",
    "\n",
    "fig, ax1 = plt.subplots(figsize=(12, 9), dpi=80)\n",
    "hd1, = ax1.plot(nav_slice_plot.epoch.values - T0, nav_slice_plot.depth.values, label='nav')\n",
    "hd2, = ax1.plot(nav_slice_plot.epoch.values - T0, nav_slice_plot.paros_depth.values,'r', label='paros')\n",
    "\n",
    "ax1.set(xlabel='time [s]', ylabel='depth [m]',\n",
    "       title='Zoomed depth & temperature, bottom01, -1480m')\n",
    "ax1.grid()\n",
    "\n",
    "# ax2 = ax1.twinx()\n",
    "# hd3, = ax2.plot(nav_slice.epoch.values - T0, sel_sbe3_t.temp_stinger.values, 'm', label='sbe3')\n",
    "# ax2.set_ylabel('temp_stinger', color='m')\n",
    "# ax2.tick_params('y', colors='m')\n",
    "\n",
    "# fig.tight_layout()\n",
    "# plt.show()\n",
    "plt.legend(handles=[hd1, hd2])\n",
    "\n",
    "fig.savefig('../results/nav/firstfit_paros_to_nav.png')"
   ]
  },
  {
   "cell_type": "code",
   "execution_count": null,
   "metadata": {},
   "outputs": [],
   "source": [
    "nav_slice_plot.pitch_rad.values"
   ]
  },
  {
   "cell_type": "code",
   "execution_count": null,
   "metadata": {},
   "outputs": [],
   "source": [
    "local_pitch_rate = getpitchrate(nav_slice_plot.pitch_rad)"
   ]
  },
  {
   "cell_type": "code",
   "execution_count": null,
   "metadata": {},
   "outputs": [],
   "source": [
    "fig, ax = plt.subplots()\n",
    "ax.plot(local_pitch_rate)\n",
    "\n",
    "ax.set(xlabel='time [s]', ylabel='pitch rate [rad/s]',\n",
    "       title='Pitch rate, Bottom1, -1480m')\n",
    "ax.grid()\n",
    "fig.savefig('../results/nav/localpitchrate_1480.png')"
   ]
  },
  {
   "cell_type": "code",
   "execution_count": null,
   "metadata": {},
   "outputs": [],
   "source": [
    "def rate2vel_pitch(rate):\n",
    "    numelems = len(rate)\n",
    "    res = np.matrix((numelems,3))\n",
    "    vert = np.zeros((numelems,))\n",
    "    for i in range(numelems):\n",
    "        local_rate = np.array([0.0, rate[i], 0.0])\n",
    "        val = np.cross(local_rate, bTRadv)\n",
    "        vert[i] = val[2]\n",
    "    return vert"
   ]
  },
  {
   "cell_type": "code",
   "execution_count": null,
   "metadata": {},
   "outputs": [],
   "source": [
    "vert = rate2vel_pitch(local_pitch_rate)"
   ]
  },
  {
   "cell_type": "code",
   "execution_count": null,
   "metadata": {},
   "outputs": [],
   "source": [
    "fig, ax = plt.subplots(figsize=(12, 9), dpi=80)\n",
    "ax.plot(vert2)\n",
    "\n",
    "ax.set(xlabel='time [s]', ylabel='Vertical Vel [m/s]',\n",
    "       title='Vertical Velocity, Bottom1, -1480m')\n",
    "ax.grid()\n",
    "fig.savefig('../results/nav/pitchleverarm_1480.png')"
   ]
  },
  {
   "cell_type": "code",
   "execution_count": null,
   "metadata": {},
   "outputs": [],
   "source": [
    "vert_offset = np.cumsum(vert)\n",
    "\n",
    "fig, ax = plt.subplots()\n",
    "ax.plot(vert_offset)\n",
    "\n",
    "ax.set(xlabel='samples', ylabel='vertical offset [m]',\n",
    "       title='Vertical Offset, Bottom1, -1480m')\n",
    "ax.grid()"
   ]
  },
  {
   "cell_type": "code",
   "execution_count": null,
   "metadata": {},
   "outputs": [],
   "source": [
    "# add pitching offset onto paros\n",
    "derotparos_depth = nav_slice_plot.paros_depth.values - vert_offset"
   ]
  },
  {
   "cell_type": "markdown",
   "metadata": {},
   "source": [
    "# Pitch biasing question"
   ]
  },
  {
   "cell_type": "code",
   "execution_count": null,
   "metadata": {},
   "outputs": [],
   "source": [
    "fig, ax1 = plt.subplots(figsize=(12, 9), dpi=80)\n",
    "hd1, = ax1.plot(nav_slice_plot.epoch.values - T0, nav_slice_plot.paros_depth.values,'r', label='paros')\n",
    "hd2, = ax1.plot(nav_slice_plot.epoch.values - T0, nav_slice_plot.depth.values, label='nav')\n",
    "hd3, = ax1.plot(nav_slice_plot.epoch.values - T0, derotparos_depth,'g', label='paros-arm')\n",
    "\n",
    "\n",
    "ax1.set(xlabel='time [s]', ylabel='depth [m]',\n",
    "       title='Zoomed depth & temperature, bottom01, -1480m')\n",
    "ax1.grid()\n",
    "\n",
    "# ax2 = ax1.twinx()\n",
    "# hd4, = ax2.plot(nav_slice_plot.epoch.values - T0, vert_offset, 'm', label='arm-displ')\n",
    "# ax2.set_ylabel('Vertical Offset', color='m')\n",
    "# ax2.tick_params('y', colors='m')\n",
    "\n",
    "# fig.tight_layout()\n",
    "# plt.show()\n",
    "plt.legend(handles=[hd1, hd2, hd3])\n",
    "\n",
    "fig.savefig('../results/nav/compare_verts.png')"
   ]
  },
  {
   "cell_type": "markdown",
   "metadata": {},
   "source": [
    "# New Vertical Velocities\n",
    "\n",
    "Still pending large lever-arm offset question  "
   ]
  },
  {
   "cell_type": "code",
   "execution_count": null,
   "metadata": {},
   "outputs": [],
   "source": [
    "dt = np.diff(nav_slice_plot.epoch)\n",
    "nav_vertvel = np.diff(nav_slice_plot.depth)/dt - 3.0\n",
    "paros_vertvel = np.diff(nav_slice_plot.paros_depth)/dt\n",
    "parosarm_vertvel = np.diff(derotparos_depth)/dt + 3.0\n",
    "\n",
    "# nav-arm\n",
    "navarm_vertvel = vert - 5\n",
    "\n",
    "\n",
    "fig, ax1 = plt.subplots(figsize=(12, 9), dpi=80)\n",
    "hd1, = ax1.plot(nav_vertvel,'r', label='nav')\n",
    "hd2, = ax1.plot(paros_vertvel, 'b', label='paros')\n",
    "hd3, = ax1.plot(parosarm_vertvel,'g', label='paros-arm')\n",
    "hd4, = ax1.plot(navarm_vertvel,'c', label='nav-arm')\n",
    "\n",
    "\n",
    "ax1.set(xlabel='samples', ylabel='vertical vel [m/s]',\n",
    "       title='Zoomed depth & temperature, bottom01, -1480m')\n",
    "ax1.grid()\n",
    "plt.legend(handles=[hd1, hd2, hd3, hd4])"
   ]
  },
  {
   "cell_type": "markdown",
   "metadata": {},
   "source": []
  },
  {
   "cell_type": "code",
   "execution_count": null,
   "metadata": {},
   "outputs": [],
   "source": []
  }
 ],
 "metadata": {
  "kernelspec": {
   "display_name": "Python 3",
   "language": "python",
   "name": "python3"
  },
  "language_info": {
   "codemirror_mode": {
    "name": "ipython",
    "version": 3
   },
   "file_extension": ".py",
   "mimetype": "text/x-python",
   "name": "python",
   "nbconvert_exporter": "python",
   "pygments_lexer": "ipython3",
   "version": "3.6.5"
  }
 },
 "nbformat": 4,
 "nbformat_minor": 2
}
