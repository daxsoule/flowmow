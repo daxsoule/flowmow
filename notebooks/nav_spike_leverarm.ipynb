{
 "cells": [
  {
   "cell_type": "markdown",
   "metadata": {},
   "source": [
    "# Perform lever-arm correction to all sensors from Sentry Nav\n",
    "\n",
    "Sentry measured rotations relate directly to local spike translations.\n",
    "- Pitching motion (about Sentry y-axis) relates to vertical motions in the spike.\n",
    "- Bottom following autonomous mode will result in many pitching adjustments\n",
    " - Likely a major vertical component measured in ADV "
   ]
  },
  {
   "cell_type": "code",
   "execution_count": null,
   "metadata": {},
   "outputs": [],
   "source": [
    "# Libraries for plotting\n",
    "import matplotlib\n",
    "import matplotlib.pyplot as plt\n",
    "import numpy as np"
   ]
  },
  {
   "cell_type": "code",
   "execution_count": null,
   "metadata": {},
   "outputs": [],
   "source": [
    "# load processed Nav data\n",
    "import pandas as pd\n",
    "nav = pd.read_hdf('../data/interim/nav_converted.h5', 'table')"
   ]
  },
  {
   "cell_type": "code",
   "execution_count": null,
   "metadata": {},
   "outputs": [],
   "source": [
    "# get start time\n",
    "T0 = nav.head(1).epoch[0]\n",
    "\n",
    "# see what is in the data\n",
    "nav.head(2)"
   ]
  },
  {
   "cell_type": "markdown",
   "metadata": {},
   "source": [
    "## Lever-arm uses the relative position from reference to test point"
   ]
  },
  {
   "cell_type": "code",
   "execution_count": null,
   "metadata": {},
   "outputs": [],
   "source": [
    "# Sentry to spike GX3-25,  this is the guesstimate, will look up more accurate number \n",
    "bTRgxs = np.array([1.8, 0.2, 0.7])\n",
    "# Sentry to body GX3-25,  also a guesstimate\n",
    "bTRgxb = np.array([0.0, 0.0, 0.0])\n",
    "# Sentry to ADV,  also a guesstimate\n",
    "bTRadv = np.array([1.6, 0.2, 0.9])\n",
    "# Sentry to SBE3,  also a guesstimate\n",
    "bTRsbe = np.array([1.5, 0.2, 0.8])\n",
    "# Sentry to Paros,  also a guesstimate\n",
    "bTRpar = np.array([1.4, 0.2, 0.8])"
   ]
  },
  {
   "cell_type": "markdown",
   "metadata": {},
   "source": [
    "## Extract time and pitch\n",
    "\n",
    "Convert pitch from degrees to radians"
   ]
  },
  {
   "cell_type": "code",
   "execution_count": null,
   "metadata": {},
   "outputs": [],
   "source": [
    "# Data for plotting\n",
    "t = nav.epoch - T0\n",
    "pitch = nav.pitch * np.pi/180.0"
   ]
  },
  {
   "cell_type": "markdown",
   "metadata": {},
   "source": [
    "### Double checking epoch time?\n",
    "\n",
    "There is a jump in timestamp?"
   ]
  },
  {
   "cell_type": "code",
   "execution_count": null,
   "metadata": {},
   "outputs": [],
   "source": [
    "fig, ax = plt.subplots()\n",
    "ax.plot(range(len(t)),t)\n",
    "\n",
    "ax.set(xlabel='samples', ylabel='epoch time',\n",
    "       title='Data from two dives?')\n",
    "ax.grid()\n",
    "fig.savefig('../results/nav/epoch-time.png')"
   ]
  },
  {
   "cell_type": "markdown",
   "metadata": {},
   "source": [
    "## Working with a shorter subset of data"
   ]
  },
  {
   "cell_type": "code",
   "execution_count": null,
   "metadata": {},
   "outputs": [],
   "source": [
    "strt = 0\n",
    "ephs = 65000"
   ]
  },
  {
   "cell_type": "code",
   "execution_count": null,
   "metadata": {},
   "outputs": [],
   "source": [
    "fig, ax = plt.subplots()\n",
    "ax.plot(t[strt:ephs], pitch[strt:ephs])\n",
    "\n",
    "ax.set(xlabel='time [s]', ylabel='pitch [rad]',\n",
    "       title='Pitch angle')\n",
    "ax.grid()\n",
    "fig.savefig('../results/nav/pitch_vs_time.png')"
   ]
  },
  {
   "cell_type": "markdown",
   "metadata": {},
   "source": [
    "# Calculate lever-arm perturbations to Spike mounted sensors"
   ]
  },
  {
   "cell_type": "code",
   "execution_count": null,
   "metadata": {},
   "outputs": [],
   "source": [
    "fig, ax = plt.subplots()\n",
    "ax.plot(t[strt:ephs], nav.head(ephs).depth)\n",
    "\n",
    "ax.set(xlabel='time [s]', ylabel='depth [m]',\n",
    "       title='Depth over time')\n",
    "ax.grid()\n",
    "fig.savefig('../results/nav/depth_vs_time.png')"
   ]
  },
  {
   "cell_type": "markdown",
   "metadata": {},
   "source": [
    "## Seems to be some erroneous data between 65000 and 70000"
   ]
  },
  {
   "cell_type": "code",
   "execution_count": null,
   "metadata": {},
   "outputs": [],
   "source": [
    "fig, ax = plt.subplots()\n",
    "ax.plot(t[65000:70000], nav.head(70000).tail(5000).depth)\n",
    "\n",
    "ax.set(xlabel='time [s]', ylabel='depth [m]',\n",
    "       title='Depth Measurement Error')\n",
    "ax.grid()\n",
    "fig.savefig('../results/nav/depth_data_err.png')"
   ]
  },
  {
   "cell_type": "markdown",
   "metadata": {},
   "source": [
    "## Zoom in closer on the first dive"
   ]
  },
  {
   "cell_type": "code",
   "execution_count": null,
   "metadata": {},
   "outputs": [],
   "source": [
    "strt = 14000\n",
    "ephs = 50500"
   ]
  },
  {
   "cell_type": "code",
   "execution_count": null,
   "metadata": {},
   "outputs": [],
   "source": [
    "fig, ax = plt.subplots()\n",
    "ax.plot(t[strt:ephs], nav.head(ephs).tail(ephs-strt).depth)\n",
    "\n",
    "ax.set(xlabel='time [s]', ylabel='depth [m]',\n",
    "       title='Depth over time')\n",
    "ax.grid()\n",
    "fig.savefig('../results/nav/depth_vs_time_bottom1_all.png')"
   ]
  },
  {
   "cell_type": "code",
   "execution_count": null,
   "metadata": {},
   "outputs": [],
   "source": [
    "strt = 14780\n",
    "ephs = 25330"
   ]
  },
  {
   "cell_type": "code",
   "execution_count": null,
   "metadata": {},
   "outputs": [],
   "source": [
    "fig, ax = plt.subplots()\n",
    "ax.plot(t[strt:ephs], nav.head(ephs).tail(ephs-strt).depth)\n",
    "\n",
    "ax.set(xlabel='time [s]', ylabel='depth [m]',\n",
    "       title='Depth Zoomed, Bottom1, -1480m')\n",
    "ax.grid()\n",
    "fig.savefig('../results/nav/depth_vs_time_bottom1_1480.png')"
   ]
  },
  {
   "cell_type": "code",
   "execution_count": null,
   "metadata": {},
   "outputs": [],
   "source": [
    "fig, ax = plt.subplots()\n",
    "ax.plot(t[strt:ephs], pitch[strt:ephs])\n",
    "\n",
    "ax.set(xlabel='time [s]', ylabel='pitch [rad]',\n",
    "       title='Pitch angle, Bottom1, -1480m')\n",
    "ax.grid()\n",
    "fig.savefig('../results/nav/pitch_vs_time_bottom1_1480.png')"
   ]
  },
  {
   "cell_type": "markdown",
   "metadata": {},
   "source": [
    "### What are the Local Vertical Perturbations due to Pitching"
   ]
  },
  {
   "cell_type": "code",
   "execution_count": null,
   "metadata": {},
   "outputs": [],
   "source": [
    "# focus on just pitch for the moment\n",
    "local_pitch = np.array(pitch[strt:ephs])\n",
    "ref_pitch = np.mean(local_pitch)\n",
    "delta_pitch = local_pitch - ref_pitch\n",
    "\n",
    "# calculate the delta time\n",
    "local_time = np.array(t[strt:ephs])\n",
    "delta_time = np.diff(local_time)\n",
    "\n",
    "# pitch rate\n",
    "local_pitch_rate = delta_pitch / np.mean(delta_time)"
   ]
  },
  {
   "cell_type": "code",
   "execution_count": null,
   "metadata": {},
   "outputs": [],
   "source": [
    "fig, ax = plt.subplots()\n",
    "ax.plot(local_pitch_rate)\n",
    "\n",
    "ax.set(xlabel='time [s]', ylabel='pitch rate [rad/s]',\n",
    "       title='Pitch rate, Bottom1, -1480m')\n",
    "ax.grid()\n",
    "fig.savefig('../results/nav/pitchrate_vs_time_bottom1_1480.png')"
   ]
  },
  {
   "cell_type": "code",
   "execution_count": null,
   "metadata": {},
   "outputs": [],
   "source": [
    "# calculate the lever-arm component of vertical velocity\n",
    "\n",
    "# result\n",
    "res = np.matrix((10550,3))\n",
    "vert = np.zeros((10550,))\n",
    "\n",
    "vert.shape"
   ]
  },
  {
   "cell_type": "code",
   "execution_count": null,
   "metadata": {},
   "outputs": [],
   "source": [
    "for i in range(10550):\n",
    "  local_rate = np.array([0.0, local_pitch_rate[i], 0.0])\n",
    "  val = np.cross(local_rate, bTRadv)\n",
    "  vert[i] = val[2]"
   ]
  },
  {
   "cell_type": "code",
   "execution_count": null,
   "metadata": {},
   "outputs": [],
   "source": [
    "fig, ax = plt.subplots()\n",
    "ax.plot(vert)\n",
    "\n",
    "ax.set(xlabel='time [s]', ylabel='Vertical Vel [ms/s]',\n",
    "       title='Vertical Velocity, Bottom1, -1480m')\n",
    "ax.grid()\n",
    "fig.savefig('../results/nav/vert_vs_time_bottom1_1480.png')"
   ]
  },
  {
   "cell_type": "code",
   "execution_count": null,
   "metadata": {},
   "outputs": [],
   "source": []
  }
 ],
 "metadata": {
  "kernelspec": {
   "display_name": "Python 3",
   "language": "python",
   "name": "python3"
  },
  "language_info": {
   "codemirror_mode": {
    "name": "ipython",
    "version": 3
   },
   "file_extension": ".py",
   "mimetype": "text/x-python",
   "name": "python",
   "nbconvert_exporter": "python",
   "pygments_lexer": "ipython3",
   "version": "3.6.5"
  }
 },
 "nbformat": 4,
 "nbformat_minor": 2
}
