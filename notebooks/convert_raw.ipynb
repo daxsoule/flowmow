{
 "cells": [
  {
   "cell_type": "markdown",
   "metadata": {},
   "source": [
    "# convert_raw\n",
    "\n",
    "This notebook applies various processing routines and conversions to the raw FlowMow2 data to generate L1B data."
   ]
  },
  {
   "cell_type": "markdown",
   "metadata": {},
   "source": [
    "#### Get UTM northing and easting values for nav"
   ]
  },
  {
   "cell_type": "code",
   "execution_count": null,
   "metadata": {},
   "outputs": [],
   "source": [
    "import pandas as pd\n",
    "nav = pd.read_hdf('../data/interim/nav_raw.h5', 'table')"
   ]
  },
  {
   "cell_type": "code",
   "execution_count": null,
   "metadata": {},
   "outputs": [],
   "source": [
    "from pyproj import Proj\n",
    "p = Proj(proj='utm', zone=9)"
   ]
  },
  {
   "cell_type": "code",
   "execution_count": null,
   "metadata": {},
   "outputs": [],
   "source": [
    "nav['x'], nav['y'] = p(nav.lon.values, nav.lat.values)"
   ]
  },
  {
   "cell_type": "markdown",
   "metadata": {},
   "source": [
    "#### Build a rotated coordinate system\n",
    "Here we create a rotated coordinate system which may make gridding easier."
   ]
  },
  {
   "cell_type": "code",
   "execution_count": null,
   "metadata": {},
   "outputs": [],
   "source": [
    "import numpy as np\n",
    "omega = 29 # rotate by omega degrees\n",
    "theta = np.deg2rad(omega)\n",
    "v = np.transpose(np.array([nav.x.values, nav.y.values]))\n",
    "R = np.array([[np.cos(theta),-np.sin(theta)], [np.sin(theta),np.cos(theta)]])\n",
    "vr = v.dot(R)\n",
    "nav['xrot'] = vr[:,0]\n",
    "nav['yrot'] = vr[:,1]"
   ]
  },
  {
   "cell_type": "markdown",
   "metadata": {},
   "source": [
    "#### Save nav to hdf"
   ]
  },
  {
   "cell_type": "code",
   "execution_count": null,
   "metadata": {},
   "outputs": [],
   "source": [
    "nav.to_hdf('../data/interim/nav.h5', 'table', append=False, data_columns=True)"
   ]
  },
  {
   "cell_type": "markdown",
   "metadata": {},
   "source": [
    "#### Convert Paros values to temperature and pressure"
   ]
  },
  {
   "cell_type": "markdown",
   "metadata": {},
   "source": [
    "Paros pressure values are in psia, which according to the [Paros manual](../docs/G8203_Digiquartz_Broadband_Pressure_Transducers_and_Depth_Sensors_with_Frequency_Outputs.pdf) can be converted to pascals by multipyling by 9806.650, or to m of H2O by multiplying by 0.7030696. Temperature is in degrees C. The SBE3 is likely the better instrument to use for temperature. The instument [calibration constants](../data/info/paros_cals.yaml) are extracted directly from the raw DAT files."
   ]
  },
  {
   "cell_type": "code",
   "execution_count": null,
   "metadata": {},
   "outputs": [],
   "source": [
    "paros = pd.read_hdf('../data/interim/paros_raw.h5', 'table')"
   ]
  },
  {
   "cell_type": "code",
   "execution_count": null,
   "metadata": {},
   "outputs": [],
   "source": [
    "import yaml\n",
    "import flowmow"
   ]
  },
  {
   "cell_type": "code",
   "execution_count": null,
   "metadata": {},
   "outputs": [],
   "source": [
    "with open('../data/info/paros_cals.yaml') as f:\n",
    "    paros_cals = yaml.load(f)"
   ]
  },
  {
   "cell_type": "code",
   "execution_count": null,
   "metadata": {},
   "outputs": [],
   "source": [
    "paros['temp'], paros['pressure'] = flowmow.convert_paros(paros.eta, paros.tau, **paros_cals)"
   ]
  },
  {
   "cell_type": "markdown",
   "metadata": {},
   "source": [
    "#### Convert SBE3 values to temperature"
   ]
  },
  {
   "cell_type": "markdown",
   "metadata": {},
   "source": [
    "The Seabird SBE3 [calibration constants](../data/info/sbe3_cals.yaml) are from the [official calibration sheets](../docs/SBE03_2014_cals.pdf) which also contain the conversion equations. More info on the SBE3 [here](../docs/datasheet-03plus-May15.pdf). We know that the SBE3 with serial number 2265 was on the stinger from this [image of the vehicle](../docs/IMG_4014.JPG-1.jpg)."
   ]
  },
  {
   "cell_type": "code",
   "execution_count": null,
   "metadata": {},
   "outputs": [],
   "source": [
    "sbe3 = pd.read_hdf('../data/interim/sbe3_raw.h5', 'table')"
   ]
  },
  {
   "cell_type": "code",
   "execution_count": null,
   "metadata": {},
   "outputs": [],
   "source": [
    "with open('../data/info/sbe3_cals.yaml') as f:\n",
    "    sbe3_cals = yaml.load(f)"
   ]
  },
  {
   "cell_type": "code",
   "execution_count": null,
   "metadata": {},
   "outputs": [],
   "source": [
    "# sbe3 2265 was on the stinger and was recorded as counts_0\n",
    "sbe3['temp_stinger'] = flowmow.convert_sbe3(sbe3.counts_0, **sbe3_cals[2265])\n",
    "sbe3['temp_top'] = flowmow.convert_sbe3(sbe3.counts_1, **sbe3_cals[2446])"
   ]
  },
  {
   "cell_type": "markdown",
   "metadata": {},
   "source": [
    "#### Interpolate nav onto all sensor data"
   ]
  },
  {
   "cell_type": "code",
   "execution_count": null,
   "metadata": {},
   "outputs": [],
   "source": [
    "paros['x'] = np.interp(paros['epoch'].values, nav['epoch'].values, nav['x'].values)\n",
    "paros['y'] = np.interp(paros['epoch'].values, nav['epoch'].values, nav['y'].values)\n",
    "paros['xrot'] = np.interp(paros['epoch'].values, nav['epoch'].values, nav['xrot'].values)\n",
    "paros['yrot'] = np.interp(paros['epoch'].values, nav['epoch'].values, nav['yrot'].values)"
   ]
  },
  {
   "cell_type": "code",
   "execution_count": null,
   "metadata": {},
   "outputs": [],
   "source": [
    "sbe3['x'] = np.interp(sbe3['epoch'].values, nav['epoch'].values, nav['x'].values)\n",
    "sbe3['y'] = np.interp(sbe3['epoch'].values, nav['epoch'].values, nav['y'].values)\n",
    "sbe3['xrot'] = np.interp(sbe3['epoch'].values, nav['epoch'].values, nav['xrot'].values)\n",
    "sbe3['yrot'] = np.interp(sbe3['epoch'].values, nav['epoch'].values, nav['yrot'].values)"
   ]
  },
  {
   "cell_type": "code",
   "execution_count": null,
   "metadata": {},
   "outputs": [],
   "source": [
    "nortek = pd.read_hdf('../data/interim/nortek_raw.h5', 'table')\n",
    "nortek['x'] = np.interp(nortek['epoch'].values, nav['epoch'].values, nav['x'].values)\n",
    "nortek['y'] = np.interp(nortek['epoch'].values, nav['epoch'].values, nav['y'].values)\n",
    "nortek['xrot'] = np.interp(nortek['epoch'].values, nav['epoch'].values, nav['xrot'].values)\n",
    "nortek['yrot'] = np.interp(nortek['epoch'].values, nav['epoch'].values, nav['yrot'].values)"
   ]
  },
  {
   "cell_type": "markdown",
   "metadata": {},
   "source": [
    "For the ustrain data we need to rename the x and y columns to avoid a conflict with northing and easting. We rename z as well just because."
   ]
  },
  {
   "cell_type": "code",
   "execution_count": null,
   "metadata": {},
   "outputs": [],
   "source": [
    "ustrain_adv = pd.read_hdf('../data/interim/ustrain_adv_raw.h5', 'table')\n",
    "ustrain_adv = ustrain_adv.rename(index=str, columns={'x': 'xx', 'y': 'yy', 'z': 'zz'})\n",
    "ustrain_adv['x'] = np.interp(ustrain_adv['epoch'].values, nav['epoch'].values, nav['x'].values)\n",
    "ustrain_adv['y'] = np.interp(ustrain_adv['epoch'].values, nav['epoch'].values, nav['y'].values)\n",
    "ustrain_adv['xrot'] = np.interp(ustrain_adv['epoch'].values, nav['epoch'].values, nav['xrot'].values)\n",
    "ustrain_adv['yrot'] = np.interp(ustrain_adv['epoch'].values, nav['epoch'].values, nav['yrot'].values)"
   ]
  },
  {
   "cell_type": "code",
   "execution_count": null,
   "metadata": {},
   "outputs": [],
   "source": [
    "ustrain_chassis = pd.read_hdf('../data/interim/ustrain_chassis_raw.h5', 'table')\n",
    "ustrain_chassis = ustrain_chassis.rename(index=str, columns={'x': 'xx', 'y': 'yy', 'z': 'zz'})\n",
    "ustrain_chassis['x'] = np.interp(ustrain_chassis['epoch'].values, nav['epoch'].values, nav['x'].values)\n",
    "ustrain_chassis['y'] = np.interp(ustrain_chassis['epoch'].values, nav['epoch'].values, nav['y'].values)\n",
    "ustrain_chassis['xrot'] = np.interp(ustrain_chassis['epoch'].values, nav['epoch'].values, nav['xrot'].values)\n",
    "ustrain_chassis['yrot'] = np.interp(ustrain_chassis['epoch'].values, nav['epoch'].values, nav['yrot'].values)"
   ]
  },
  {
   "cell_type": "markdown",
   "metadata": {},
   "source": [
    "#### Save data to hdf"
   ]
  },
  {
   "cell_type": "code",
   "execution_count": null,
   "metadata": {},
   "outputs": [],
   "source": [
    "paros.to_hdf('../data/interim/paros.h5', 'table', append=False, data_columns=True)\n",
    "sbe3.to_hdf('../data/interim/sbe3.h5', 'table', append=False, data_columns=True)\n",
    "nortek.to_hdf('../data/interim/nortek.h5', 'table', append=False, data_columns=True)\n",
    "ustrain_adv.to_hdf('../data/interim/ustrain_adv.h5', 'table', append=False, data_columns=True)\n",
    "ustrain_chassis.to_hdf('../data/interim/ustrain_chassis.h5', 'table', append=False, data_columns=True)"
   ]
  }
 ],
 "metadata": {
  "kernelspec": {
   "display_name": "Python 3",
   "language": "python",
   "name": "python3"
  },
  "language_info": {
   "codemirror_mode": {
    "name": "ipython",
    "version": 3
   },
   "file_extension": ".py",
   "mimetype": "text/x-python",
   "name": "python",
   "nbconvert_exporter": "python",
   "pygments_lexer": "ipython3",
   "version": "3.6.5"
  }
 },
 "nbformat": 4,
 "nbformat_minor": 2
}
